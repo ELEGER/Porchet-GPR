{
 "cells": [
  {
   "cell_type": "code",
   "execution_count": 1,
   "metadata": {},
   "outputs": [],
   "source": [
    "import itertools\n",
    "import numpy as np\n",
    "\n",
    "#Teneur en eau résiduelle\n",
    "tr = [0.03]\n",
    "\n",
    "#Teneur en eau à saturation\n",
    "#ts=np.arange(0.36, 0.46, 0.02, 'float')\n",
    "ts= [0.36]\n",
    "#Teneur en eau initiale\n",
    "#ti=np.arange(0.05, 0.13, 0.02, 'float')\n",
    "ti = [0.07]\n",
    "#Perméabilité à saturation\n",
    "#Ks=np.arange(0.01, 0.56, 0.05, 'float')\n",
    "Ks = [0.16000000000000003]\n",
    "#param fitting retention n\n",
    "#n=np.arange(1.5, 10.25, 0.25, 'float')\n",
    "#n=np.arange(4, 4.75, 0.25, 'float')\n",
    "n = [4]\n",
    "#param fitting retention alpha\n",
    "#alpha=np.arange(0.01, 0.11, 0.01, 'float')\n",
    "#alpha=np.arange(0.01, 0.04, 0.01, 'float')\n",
    "alpha = [0.01]"
   ]
  },
  {
   "cell_type": "code",
   "execution_count": 2,
   "metadata": {},
   "outputs": [
    {
     "data": {
      "text/plain": [
       "1"
      ]
     },
     "execution_count": 2,
     "metadata": {},
     "output_type": "execute_result"
    }
   ],
   "source": [
    "l= [ p for p in itertools.product(tr,ts,ti,Ks,n,alpha)]\n",
    "len(l)"
   ]
  },
  {
   "cell_type": "code",
   "execution_count": null,
   "metadata": {},
   "outputs": [],
   "source": [
    "import dask"
   ]
  },
  {
   "cell_type": "code",
   "execution_count": 3,
   "metadata": {},
   "outputs": [],
   "source": [
    "import os\n",
    "\n",
    "from modelisation import Geometry, ParamMVG, ParamGPRMAX, run\n",
    "\n",
    "geometry=Geometry()\n",
    "\n",
    "#Domaine de calcul (en cm)\n",
    "# largeur\n",
    "geometry.xmin=0 \n",
    "geometry.xmax=40\n",
    "# hauteur (elevation)\n",
    "geometry.emin=0\n",
    "geometry.emax = 80\n",
    "# profondeur du trou en cm\n",
    "geometry.dtrou = 30\n",
    "# elevation du fond du trou\n",
    "geometry.etrou = geometry.emax - geometry.dtrou\n",
    " # rayon du trou en cm\n",
    "geometry.r=4\n",
    "# hauteur d'eau imposée au fond du trou en cm\n",
    "geometry.h_eau=10.0 \n",
    "# pas de la maille en cm\n",
    "geometry.dx = 0.1\n",
    "# profondeur sous le trou (cm) jusqu'où on souhaite un maillage affiné. \n",
    "geometry.zaff= 20\n",
    "#largeur horizontal de la zone affinée (cm)\n",
    "geometry.waff=20\n",
    "# elevation de l'affinage\n",
    "geometry.eaff=geometry.etrou-geometry.zaff \n",
    "# contrainte d'angle min pour mesh \n",
    "geometry.quality=33\n",
    "# maximum triangle size  (m*²)\n",
    "geometry.area=5\n",
    "# tupple for mesh generation \n",
    "geometry.smooth=[1,5]\n",
    "\n",
    "\n",
    "#Temps d'infiltration où à lieu le calcul de chaque trace  (minutes) \n",
    "#temps=[1.00, 2.00, 3.00, 4.00, 5.00, 6.00]\n",
    "temps=[0.17, 0.33, 0.50, 0.67, 0.83, 1.00, 2.00, 3.00, 4.00, 5.00, 6.00]\n",
    "\n",
    "# Temps max de calcul SWMS2D au delà duquel on arrète le calcul (secondes)\n",
    "tmax_SWMS2D = 600\n",
    "#tmax_SWMS2D = 10\n",
    "   \n",
    "# Definition des param gprMax\n",
    "paramGPRMAX=ParamGPRMAX()\n",
    "# Domaine de calcul (cm)\n",
    "paramGPRMAX.xmin = geometry.xmin\n",
    "paramGPRMAX.xmax = geometry.xmax\n",
    "paramGPRMAX.zmin = geometry.emin\n",
    "paramGPRMAX.zmax = geometry.emax\n",
    "# Taille des mailles (cm)\n",
    "paramGPRMAX.dx = 1.0 \n",
    "# Electrical conductivity of the medium\n",
    "paramGPRMAX.sigma=0.0000\n",
    "# Relative dielectric permittivity of water\n",
    "paramGPRMAX.eps_w=80.1\n",
    "# Relative dielectric permittivity of PVC\n",
    "paramGPRMAX.eps_pvc=3\n",
    "# Relative dielectric permittivity of pure silice\n",
    "paramGPRMAX.eps_s=2.5\n",
    "# Ricker signal central frequency (Hz)\n",
    "paramGPRMAX.wave_freq = 1000e6\n",
    "# Frequence max du signal EM (Hz)\n",
    "paramGPRMAX.freq_max = 2.8 * paramGPRMAX.wave_freq\n",
    "# Distance between hole middle and source (m)\n",
    "paramGPRMAX.d_emet = 0.18\n",
    "# Distance between hole middle and receiving antenna (m)\n",
    "paramGPRMAX.d_recept = 0.22\n",
    "# param qui raffine le pas spatial (par défaut 10 d'après doc gprmax)\n",
    "paramGPRMAX.spatial_step = 5\n",
    "# Trace time window (ns)\n",
    "paramGPRMAX.time = 30e-9\n",
    "#time_step_stability_factor (pas utilisé pour le moment...)\n",
    "paramGPRMAX.fac_dt = 0.2 \n",
    "\n"
   ]
  },
  {
   "cell_type": "code",
   "execution_count": 4,
   "metadata": {},
   "outputs": [
    {
     "name": "stdout",
     "output_type": "stream",
     "text": [
      "1\n",
      "2\n",
      "3\n",
      "4\n",
      "5\n",
      "6\n",
      "7\n",
      "8\n",
      "9\n",
      "10\n",
      "11\n",
      "12\n"
     ]
    }
   ],
   "source": [
    "tasks=[]\n",
    "\n",
    "for p in itertools.product(tr,ts,ti,Ks,n,alpha):\n",
    "    # Definition des paramètres MVG\n",
    "    paramMVG=ParamMVG()\n",
    "\n",
    "    paramMVG.tr = p[0]\n",
    "    paramMVG.ts = p[1]\n",
    "    paramMVG.ti = p[2]\n",
    "    paramMVG.Ks = p[3]\n",
    "    paramMVG.n = p[4]\n",
    "    paramMVG.alpha = p[5]\n",
    "    #Porosité\n",
    "    paramMVG.porosity = paramMVG.ts\n",
    "    myDirName = \"OUT\"+repr(geometry)+\"/\"+repr(paramMVG)\n",
    "    #tasks.append(dask.delayed(run)(geometry=geometry,paramMVG=paramMVG,paramGPRMAX=paramGPRMAX,temps=temps,tmax_SWMS2D=tmax_SWMS2D,myDirName=myDirName))\n",
    "    run(geometry=geometry,paramMVG=paramMVG,paramGPRMAX=paramGPRMAX,temps=temps,tmax_SWMS2D=tmax_SWMS2D,myDirName=myDirName)\n",
    "    \n",
    "    \n",
    "\n"
   ]
  },
  {
   "cell_type": "code",
   "execution_count": null,
   "metadata": {},
   "outputs": [],
   "source": [
    "tasks=dask.compute(tasks,scheduler='processes')\n"
   ]
  },
  {
   "cell_type": "code",
   "execution_count": null,
   "metadata": {},
   "outputs": [],
   "source": [
    "len(tasks)"
   ]
  },
  {
   "cell_type": "code",
   "execution_count": null,
   "metadata": {},
   "outputs": [],
   "source": [
    "dirnames=[]\n",
    "for p in itertools.product(tr,ts,ti,Ks,n,alpha):\n",
    "    paramMVG.tr = p[0]\n",
    "    paramMVG.ts = p[1]\n",
    "    paramMVG.ti = p[2]\n",
    "    paramMVG.Ks = p[3]\n",
    "    paramMVG.n = p[4]\n",
    "    paramMVG.alpha = p[5]\n",
    "    #Porosité\n",
    "    paramMVG.porosity = paramMVG.ts\n",
    "    dirnames.append(\"OUT\"+repr(geometry)+\"/\"+repr(paramMVG))\n"
   ]
  },
  {
   "cell_type": "code",
   "execution_count": null,
   "metadata": {},
   "outputs": [],
   "source": [
    "len(dirnames)"
   ]
  },
  {
   "cell_type": "code",
   "execution_count": null,
   "metadata": {},
   "outputs": [],
   "source": [
    "len(set(dirnames))"
   ]
  },
  {
   "cell_type": "code",
   "execution_count": null,
   "metadata": {},
   "outputs": [],
   "source": [
    "%matplotlib inline\n",
    "import h5py\n",
    "import math\n",
    "import numpy as np\n",
    "import matplotlib.pyplot as plt\n",
    "\n",
    "\n",
    "# Ouverture du fichier avec le radargramme\n",
    "\n",
    "filename1 = '/home/clemence/Albane-Porchet-GPR-mod/OUTdtrou30_rtrou4_tr10.0/ts0.36_ti0.07_tr0.03_n4.0_alpha0.01_Ks0.16000000000000003/radargram__merged.out'\n",
    "f1 = h5py.File(filename1, 'r')\n",
    "# Lecture des données\n",
    "path = '/rxs/rx1/'\n",
    "data1 = f1['%s%s' % (path, 'Ez')][:,:]\n",
    "\n",
    "# Affichage du radargramme\n",
    "\n",
    "#plt.figure(figsize=(20,10))\n",
    "#plt.xticks(fontsize=20)\n",
    "#plt.yticks(fontsize=20)\n",
    "#plt.imshow(data[int(itmin0):int(itmin0+7*ifenetre),:],aspect=0.01)\n",
    "#plt.imshow(data1[:,:],aspect=0.01)\n",
    "\n",
    "filename2 = '/home/clemence/Albane-Porchet-GPR-mod/OUTdtrou30_rtrou4_tr10.0/ts0.36_ti0.07_tr0.03_n4_alpha0.01_Ks0.16000000000000003/radargram__merged.out'\n",
    "f2 = h5py.File(filename2, 'r')\n",
    "# Lecture des données\n",
    "path = '/rxs/rx1/'\n",
    "data2 = f2['%s%s' % (path, 'Ez')][:,:]\n",
    "\n",
    "# Affichage du radargramme\n",
    "\n",
    "#plt.figure(figsize=(10,10))\n",
    "#plt.xticks(fontsize=20)\n",
    "#plt.yticks(fontsize=20)\n",
    "#plt.imshow(data[int(itmin0):int(itmin0+7*ifenetre),:],aspect=0.01)\n",
    "plt.plot(np.arange(0,len(data2[:,11])),data2[:,11],data1[:,11])\n"
   ]
  },
  {
   "cell_type": "code",
   "execution_count": null,
   "metadata": {},
   "outputs": [],
   "source": [
    "# Ouverture du fichier avec le radargramme\n",
    "\n",
    "filename1 = '/home/clemence/Albane-Porchet-GPR-mod/OUTdtrou30_rtrou4_tr10.0.PremierEssaiDask/ts0.36_ti0.07_tr0.03_n2.25_alpha0.02_Ks0.16000000000000003/radargram__merged.out'\n",
    "f1 = h5py.File(filename1, 'r')\n",
    "# Lecture des données\n",
    "path = '/rxs/rx1/'\n",
    "data1 = f1['%s%s' % (path, 'Ez')][:,:]\n",
    "\n",
    "# Affichage du radargramme\n",
    "\n",
    "#plt.figure(figsize=(20,10))\n",
    "#plt.xticks(fontsize=20)\n",
    "#plt.yticks(fontsize=20)\n",
    "#plt.imshow(data[int(itmin0):int(itmin0+7*ifenetre),:],aspect=0.01)\n",
    "#plt.imshow(data1[:,:],aspect=0.01)\n",
    "\n",
    "filename2 = '/home/clemence/Albane-Porchet-GPR-mod/OUTdtrou30_rtrou4_tr10.0.PremierEssaiDask/ts0.36_ti0.07_tr0.03_n2.25_alpha0.02_Ks0.16000000000000003.old/radargram__merged.out'\n",
    "\n",
    "f2 = h5py.File(filename2, 'r')\n",
    "# Lecture des données\n",
    "path = '/rxs/rx1/'\n",
    "data2 = f2['%s%s' % (path, 'Ez')][:,:]\n",
    "\n",
    "# Affichage du radargramme\n",
    "\n",
    "#plt.figure(figsize=(10,10))\n",
    "#plt.xticks(fontsize=20)\n",
    "#plt.yticks(fontsize=20)\n",
    "#plt.imshow(data[int(itmin0):int(itmin0+7*ifenetre),:],aspect=0.01)\n",
    "plt.plot(np.arange(0,len(data2[:,11])),data2[:,11],data1[:,11])"
   ]
  },
  {
   "cell_type": "code",
   "execution_count": null,
   "metadata": {},
   "outputs": [],
   "source": []
  }
 ],
 "metadata": {
  "kernelspec": {
   "display_name": "Python 3",
   "language": "python",
   "name": "python3"
  },
  "language_info": {
   "codemirror_mode": {
    "name": "ipython",
    "version": 3
   },
   "file_extension": ".py",
   "mimetype": "text/x-python",
   "name": "python",
   "nbconvert_exporter": "python",
   "pygments_lexer": "ipython3",
   "version": "3.6.9"
  }
 },
 "nbformat": 4,
 "nbformat_minor": 2
}
