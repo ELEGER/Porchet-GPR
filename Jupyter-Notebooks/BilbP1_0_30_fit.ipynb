{
 "cells": [
  {
   "cell_type": "code",
   "execution_count": 5,
   "metadata": {},
   "outputs": [],
   "source": [
    "%matplotlib inline\n",
    "import itertools\n",
    "import numpy as np\n",
    "import h5py\n",
    "import math\n",
    "import os\n",
    "import matplotlib.pyplot as plt\n",
    "from scipy.stats import linregress\n",
    "import io\n",
    "import pandas\n",
    "import sys\n",
    "\n",
    "#from collections import namedtuple\n",
    "\n",
    "#Teneur en eau résiduelle\n",
    "tr = [0.03]\n",
    "#Teneur en eau à saturation\n",
    "ts=np.arange(0.36, 0.46, 0.02, 'float')\n",
    "#ts= [0.36]\n",
    "#Teneur en eau initiale\n",
    "#ti=np.arange(0.05, 0.13, 0.02, 'float')\n",
    "ti = [0.09]\n",
    "#Perméabilité à saturation\"\n",
    "Ks=np.arange(0.06, 0.56, 0.05, 'float')\n",
    "#Ks = [0.21]\n",
    "#param fitting retention n\n",
    "#n=np.arange(2, 10.25, 0.25, 'float')\n",
    "#n=np.arange(2.5, 5., 0.25, 'float')\n",
    "n = [3.75]\n",
    "#param fitting retention alpha\n",
    "#alpha=np.arange(0.01, 0.11, 0.01, 'float')\n",
    "alpha = [0.02, 0.03, 0.04]\n",
    "#ts0.4_ti0.09_tr0.03_n9.75_alpha0.09_Ks0.51"
   ]
  },
  {
   "cell_type": "code",
   "execution_count": 6,
   "metadata": {},
   "outputs": [
    {
     "name": "stdout",
     "output_type": "stream",
     "text": [
      "180\n",
      "/home/sainteno/Porchet-GPR/Jupyter-Notebooks\n"
     ]
    }
   ],
   "source": [
    "l= [ p for p in itertools.product(tr,ts,ti,Ks,n,alpha)]\n",
    "print(len(l))\n",
    "print(os.getcwd())"
   ]
  },
  {
   "cell_type": "code",
   "execution_count": 7,
   "metadata": {},
   "outputs": [],
   "source": [
    "sys.path.append(\"../\")\n",
    "\n",
    "from modelisation import Geometry, ParamMVG, ParamGPRMAX\n",
    "\n",
    "geometry=Geometry()\n",
    "\n",
    "#Domaine de calcul (en cm)\n",
    "# largeur\n",
    "geometry.xmin=0 \n",
    "geometry.xmax=40\n",
    "# hauteur (elevation)\n",
    "geometry.emin=0\n",
    "geometry.emax = 80\n",
    "# profondeur du trou en cm\n",
    "geometry.dtrou = 30\n",
    "# elevation du fond du trou\n",
    "geometry.etrou = geometry.emax - geometry.dtrou\n",
    " # rayon du trou en cm\n",
    "geometry.r=4\n",
    "# hauteur d'eau imposée au fond du trou en cm\n",
    "geometry.h_eau=5.0\n",
    "# pas de la maille en cm\n",
    "geometry.dx = 0.1\n",
    "#geometry.dx = 1\n",
    "# profondeur sous le trou (cm) jusqu'où on souhaite un maillage affiné. \n",
    "geometry.zaff= 20\n",
    "#largeur horizontal de la zone affinée (cm)\n",
    "geometry.waff=20\n",
    "# elevation de l'affinage\n",
    "geometry.eaff=geometry.etrou-geometry.zaff \n",
    "# contrainte d'angle min pour mesh \n",
    "geometry.quality=33\n",
    "# maximum triangle size  (m*²)\n",
    "geometry.area=5\n",
    "# tupple for mesh generation \n",
    "geometry.smooth=[1,5]\n",
    "\n",
    "\n",
    "#Temps d'infiltration où à lieu le calcul de chaque trace  (minutes) \n",
    "#temps=[1.00, 2.00]\n",
    "temps=[0.17, 0.33, 0.50, 0.67, 0.83, 1.00, 2.00, 3.00, 4.00, 5.00, 6.00]\n",
    "temps_volume=[0.50, 1.00, 2.00, 3.00, 4.00, 5.00, 6.00]\n",
    "\n",
    "# Temps max de calcul SWMS2D au delà duquel on arrète le calcul (secondes)\n",
    "tmax_SWMS2D = 600\n",
    "#tmax_SWMS2D = 10\n",
    "   \n",
    "\n",
    "\n",
    "paramGPRMAX=ParamGPRMAX()\n",
    "# Domaine de calcul (cm)\n",
    "paramGPRMAX.xmin = geometry.xmin\n",
    "paramGPRMAX.xmax = geometry.xmax\n",
    "paramGPRMAX.zmin = geometry.emin\n",
    "paramGPRMAX.zmax = geometry.emax\n",
    "# Taille des mailles (cm)\n",
    "paramGPRMAX.dx = 1.0 \n",
    "# Electrical conductivity of the medium\n",
    "paramGPRMAX.sigma=0.0000\n",
    "# Relative dielectric permittivity of water\n",
    "paramGPRMAX.eps_w=80.1\n",
    "# Relative dielectric permittivity of PVC\n",
    "paramGPRMAX.eps_pvc=3\n",
    "# Relative dielectric permittivity of pure silice\n",
    "paramGPRMAX.eps_s=2.5\n",
    "# Ricker signal central frequency (Hz)\n",
    "paramGPRMAX.wave_freq = 1000e6\n",
    "# Frequence max du signal EM (Hz)\n",
    "paramGPRMAX.freq_max = 2.8 * paramGPRMAX.wave_freq\n",
    "# Distance between hole middle and source (m)\n",
    "paramGPRMAX.d_emet = 0.18\n",
    "# Distance between hole middle and receiving antenna (m)\n",
    "paramGPRMAX.d_recept = 0.22\n",
    "# param qui raffine le pas spatial (par défaut 10 d'après doc gprmax)\n",
    "paramGPRMAX.spatial_step = 5\n",
    "# Trace time window (ns)\n",
    "paramGPRMAX.time = 30e-9\n",
    "#time_step_stability_factor (pas utilisé pour le moment...)\n",
    "paramGPRMAX.fac_dt = 0.2 \n",
    "\n",
    "nT=len(temps)\n",
    "nV=len(temps_volume)"
   ]
  },
  {
   "cell_type": "code",
   "execution_count": 8,
   "metadata": {},
   "outputs": [],
   "source": [
    "#lecture fichier de données P1_0_30cm2 Cul-du-chien\n",
    "from pathlib import Path\n",
    "\n",
    "twts_data=np.array([0.67,1.032,1.277,1.469,1.617,1.766,2.384,2.841,3.246,3.575,3.841])\n",
    "volumes_data=np.array([331.752,542.867,914.832,1256.637,1558.23,1910.088,2211.681]) # en cm3\n",
    "\n",
    "#data_folder = Path(\"/home/sainteno/Donnees/2018/061218-Cul-du-chien/Fit-avec-baseOUTdtrou30_rtrou4_tr5.0\")\n",
    "#np.savetxt(data_folder / \"twts_BilbP1_0_30.txt\", twts_data)\n",
    "#np.savetxt(data_folder / \"volumes_BilbP1_0_30.txt\", volumes_data)\n",
    "\n",
    "volumes_data=0.001*volumes_data # en L"
   ]
  },
  {
   "cell_type": "code",
   "execution_count": 12,
   "metadata": {},
   "outputs": [],
   "source": [
    "def load_simu():\n",
    "\n",
    "    rows_list = []\n",
    "    #tableau = pandas.DataFrame(columns=[\"tr\",\"ts\", \"ti\", \"Ks\", \"n\", \"alpha\", \"twts\", \"volumes\"])\n",
    "    for p in itertools.product(tr,ts,ti,Ks,n,alpha):\n",
    "        # Definition des paramètres MVG\n",
    "        paramMVG=ParamMVG(tr=p[0], ts=p[1], ti=p[2], Ks=p[3], n=p[4], alpha=p[5])\n",
    "        myDirName = \"../OUT\"+repr(geometry)+\"/\"+repr(paramMVG)\n",
    "\n",
    "        ########  TWT #############\n",
    "        filename = 'TWT'\n",
    "        if (os.path.isfile(myDirName+\"/\"+filename)):\n",
    "            mots=[]\n",
    "            twts=np.zeros(nT)\n",
    "            fTWT=open(myDirName+\"/\"+filename,\"r\")\n",
    "            i=0\n",
    "            for ligne in fTWT:\n",
    "                ligne = ligne.rstrip(']\\n')\n",
    "                mots = ligne.split(\" \")\n",
    "                for mot in mots:\n",
    "                    if (mot != '' and mot != '[0.' and mot != '[' and mot != '0.'):\n",
    "                        twts[i] = float(mot)\n",
    "                        i=i+1\n",
    "            fTWT.close()\n",
    "            ### Volumes\n",
    "            volumes=np.zeros(nT)\n",
    "            fVOL=open(myDirName+\"/Volumes\",\"r\")\n",
    "            i=0\n",
    "            for ligne in fVOL:\n",
    "                ligne = ligne.rstrip(']\\n')\n",
    "                mots = ligne.split(\" \")\n",
    "                for mot in mots:\n",
    "                    if (mot != '' and mot != '[0.' and mot != '[' and mot != '0.'):\n",
    "                        volumes[i] = float(mot)\n",
    "                        i=i+1\n",
    "            fVOL.close()\n",
    "            \n",
    "            #todo: remplacer par l'exemple de nicolas\n",
    "            volumes_comp=np.zeros(nV)\n",
    "            volumes_comp[0]=0.001*volumes[2]\n",
    "            volumes_comp[1]=0.001*volumes[5]\n",
    "            volumes_comp[2]=0.001*volumes[6]\n",
    "            volumes_comp[3]=0.001*volumes[7]\n",
    "            volumes_comp[4]=0.001*volumes[8]\n",
    "            volumes_comp[5]=0.001*volumes[9]\n",
    "            volumes_comp[6]=0.001*volumes[10]\n",
    "\n",
    "            rows_list.append({\"tr\":p[0],\"ts\":p[1], \"ti\":p[2], \"Ks\":p[3], \"n\":p[4], \"alpha\":p[5], \"twts\":twts, \"volumes\":volumes_comp})\n",
    "          \n",
    "    return pandas.DataFrame(rows_list)\n"
   ]
  },
  {
   "cell_type": "code",
   "execution_count": 13,
   "metadata": {},
   "outputs": [],
   "source": [
    "#remplit et copie le tableau avec les resultats des simulations sans les fits\n",
    "\n",
    "tableau_simu = load_simu()\n",
    "#print(tableau_simu)\n",
    "tableau = tableau_simu.copy()"
   ]
  },
  {
   "cell_type": "code",
   "execution_count": 14,
   "metadata": {},
   "outputs": [],
   "source": [
    "#Calcul des fit\n",
    "\n",
    "tableau['fit_twts'] = pandas.Series('fit_twts')\n",
    "tableau['fit_volumes'] = pandas.Series('fit_volumes')\n",
    "tableau['fit_logtwts'] = pandas.Series('fit_logtwts')\n",
    "tableau['fit_logvolumes'] = pandas.Series('fit_logvolumes')\n",
    "tableau['fit_commun'] = pandas.Series('fit_commun')\n",
    "for j in tableau.index:     \n",
    "    twts=tableau.at[j,'twts'] \n",
    "    volumes= tableau.at[j,'volumes']\n",
    "    fit_logtwts = np.sqrt(sum((np.log(twts_data)-np.log(twts))**2)/len(twts))\n",
    "    #print(fit_twts)\n",
    "    fit_logvolumes = np.sqrt(sum((np.log(volumes_data)-np.log(volumes))**2)/len(volumes_data))\n",
    "    fit_twts = np.sqrt(sum((twts_data-twts)**2)/len(twts))\n",
    "    fit_volumes = np.sqrt(sum((volumes_data-volumes)**2)/len(volumes_data))\n",
    "    fit_commun = (fit_twts+fit_volumes)/2\n",
    "    tableau.at[j,'fit_twts']=fit_twts\n",
    "    tableau.at[j,'fit_volumes']=fit_volumes\n",
    "    tableau.at[j,'fit_logtwts']=fit_logtwts\n",
    "    tableau.at[j,'fit_logvolumes']=fit_logvolumes\n",
    "    tableau.at[j,'fit_commun']=fit_commun\n",
    "\n",
    "#print(tableau)"
   ]
  },
  {
   "cell_type": "code",
   "execution_count": 18,
   "metadata": {},
   "outputs": [
    {
     "name": "stdout",
     "output_type": "stream",
     "text": [
      "0.06106700362750777\n",
      "8\n",
      "tr=0.03,ts=0.36,ti=0.09,Ks=0.26,n=3.75,alpha=0.04,fit_min=0.06106700362750777\n",
      "        \n",
      "0.07108894906182174\n",
      "110\n",
      "tr=0.03,ts=0.4600000000000001,ti=0.09,Ks=0.21000000000000002,n=3.75,alpha=0.04,fit_min=0.07108894906182174\n",
      "        \n"
     ]
    }
   ],
   "source": [
    "#Calcul des fit min\n",
    "fit_twts = tableau['fit_twts']\n",
    "fit_min_twts=np.min(fit_twts)\n",
    "ifit_min_twts = int(np.where(fit_twts[:] == fit_min_twts)[0])\n",
    "print(fit_min_twts)\n",
    "print(ifit_min_twts)\n",
    "print(\"\"\"tr={tr},ts={ts},ti={ti},Ks={Ks},n={n},alpha={alpha},fit_min={min}\n",
    "        \"\"\".format(tr=tableau.at[ifit_min_twts,\"tr\"], \n",
    "                   ts=tableau.at[ifit_min_twts,\"ts\"], \n",
    "                   ti=tableau.at[ifit_min_twts,\"ti\"], \n",
    "                   Ks=tableau.at[ifit_min_twts,\"Ks\"], \n",
    "                   n=tableau.at[ifit_min_twts,\"n\"], \n",
    "                   alpha=tableau.at[ifit_min_twts,\"alpha\"],\n",
    "                   min=fit_min_twts)\n",
    "     )\n",
    "\n",
    "fit_volumes = tableau['fit_volumes']\n",
    "fit_min_vols=np.min(fit_volumes)\n",
    "ifit_min_vols = int(np.where(fit_volumes[:] == fit_min_vols)[0])\n",
    "print(fit_min_vols)\n",
    "print(ifit_min_vols)\n",
    "print(\"\"\"tr={tr},ts={ts},ti={ti},Ks={Ks},n={n},alpha={alpha},fit_min={min}\n",
    "        \"\"\".format(tr=tableau.at[ifit_min_vols,\"tr\"], \n",
    "                   ts=tableau.at[ifit_min_vols,\"ts\"], \n",
    "                   ti=tableau.at[ifit_min_vols,\"ti\"], \n",
    "                   Ks=tableau.at[ifit_min_vols,\"Ks\"], \n",
    "                   n=tableau.at[ifit_min_vols,\"n\"], \n",
    "                   alpha=tableau.at[ifit_min_vols,\"alpha\"],\n",
    "                   min=fit_min_vols)\n",
    "     )"
   ]
  },
  {
   "cell_type": "code",
   "execution_count": 19,
   "metadata": {},
   "outputs": [
    {
     "name": "stdout",
     "output_type": "stream",
     "text": [
      "0.08327393191757186\n",
      "8\n",
      "tr=0.03,ts=0.36,ti=0.09,Ks=0.26,n=3.75,alpha=0.04,fit_commun=0.08327393191757186,fit_twts=0.06106700362750777,fit_vols=0.10548086020763596\n",
      "        \n"
     ]
    }
   ],
   "source": [
    "#Calcul du minimum du fit commun \n",
    "fit_commun = tableau['fit_commun']\n",
    "fit_min_commun=np.min(fit_commun)\n",
    "ifit_min_commun = int(np.where(fit_commun[:] == fit_min_commun)[0])\n",
    "print(fit_min_commun)\n",
    "print(ifit_min_commun)\n",
    "print(\"\"\"tr={tr},ts={ts},ti={ti},Ks={Ks},n={n},alpha={alpha},fit_commun={min1},fit_twts={min2},fit_vols={min3}\n",
    "        \"\"\".format(tr=tableau.at[ifit_min_commun,\"tr\"], \n",
    "                   ts=tableau.at[ifit_min_commun,\"ts\"], \n",
    "                   ti=tableau.at[ifit_min_commun,\"ti\"], \n",
    "                   Ks=tableau.at[ifit_min_commun,\"Ks\"], \n",
    "                   n=tableau.at[ifit_min_commun,\"n\"], \n",
    "                   alpha=tableau.at[ifit_min_commun,\"alpha\"],\n",
    "                   min1=tableau.at[ifit_min_commun,\"fit_commun\"],\n",
    "                   min2=tableau.at[ifit_min_commun,\"fit_twts\"],\n",
    "                   min3=tableau.at[ifit_min_commun,\"fit_volumes\"])\n",
    "     )"
   ]
  },
  {
   "cell_type": "markdown",
   "metadata": {},
   "source": [
    "# plot de comparaison best-models et data"
   ]
  },
  {
   "cell_type": "code",
   "execution_count": 20,
   "metadata": {},
   "outputs": [
    {
     "data": {
      "image/png": "[encoded data removed]",
      "text/plain": [
       "<Figure size 1080x720 with 6 Axes>"
      ]
     },
     "metadata": {
      "needs_background": "light"
     },
     "output_type": "display_data"
    }
   ],
   "source": [
    "%matplotlib inline\n",
    "fig = plt.figure(1,figsize=(15,10))\n",
    "plt.xticks(fontsize=20)\n",
    "plt.yticks(fontsize=20)\n",
    "plt.gcf().subplots_adjust(hspace =.5)\n",
    "    \n",
    "plt.subplot(3,2,1)\n",
    "plt.xlabel('Infiltration times (min)',fontsize=15)\n",
    "plt.ylabel('TWT (ns)',fontsize=15)\n",
    "plt.title('Best twts model vs data',fontsize=15)\n",
    "plt.plot(temps,tableau.at[ifit_min_twts, \"twts\"], 'bo')\n",
    "plt.plot(temps,twts_data, 'ro')\n",
    "\n",
    "plt.subplot(3,2,2)\n",
    "plt.xlabel('Infiltration times (min)',fontsize=15)\n",
    "plt.ylabel('Volume (L)',fontsize=15)\n",
    "plt.title('Corresponding volume model vs data',fontsize=15)\n",
    "plt.plot(temps_volume,tableau.at[ifit_min_twts, \"volumes\"], 'bo')\n",
    "plt.plot(temps_volume,volumes_data, 'ro')\n",
    "\n",
    "plt.subplot(3,2,3)\n",
    "plt.xlabel('Infiltration times (min)',fontsize=15)\n",
    "plt.ylabel('TWT (ns)',fontsize=15)\n",
    "plt.title('Corresponding twt model vs data',fontsize=15)\n",
    "plt.plot(temps,tableau.at[ifit_min_vols, \"twts\"], 'bo')\n",
    "plt.plot(temps,twts_data, 'ro')\n",
    "\n",
    "plt.subplot(3,2,4)\n",
    "plt.xlabel('Infiltration times (min)',fontsize=15)\n",
    "plt.ylabel('Volume (L)',fontsize=15)\n",
    "plt.title('Best volume model vs data',fontsize=15)\n",
    "plt.plot(temps_volume, tableau.at[ifit_min_vols, \"volumes\"], 'bo')\n",
    "plt.plot(temps_volume,volumes_data, 'ro')\n",
    "\n",
    "plt.subplot(3,2,5)\n",
    "plt.xlabel('Infiltration times (min)',fontsize=15)\n",
    "plt.ylabel('TWT (ns)',fontsize=15)\n",
    "plt.title('Best twt model vs data for double fit',fontsize=15)\n",
    "plt.plot(temps,tableau.at[ifit_min_commun, \"twts\"], 'bo')\n",
    "plt.plot(temps,twts_data, 'ro')\n",
    "\n",
    "plt.subplot(3,2,6)\n",
    "plt.xlabel('Infiltration times (min)',fontsize=15)\n",
    "plt.ylabel('Volume (L)',fontsize=15)\n",
    "plt.title('Best twt model vs data for double fit',fontsize=15)\n",
    "plt.plot(temps_volume, tableau.at[ifit_min_commun, \"volumes\"], 'bo')\n",
    "plt.plot(temps_volume,volumes_data, 'ro')\n",
    "\n",
    "plt.savefig('bilbP1_0_30.pdf', bbox_inches='tight')"
   ]
  },
  {
   "cell_type": "code",
   "execution_count": 21,
   "metadata": {},
   "outputs": [
    {
     "name": "stdout",
     "output_type": "stream",
     "text": [
      "1\n"
     ]
    }
   ],
   "source": [
    "#selection des modèles qui fit à 0.1 ns près\n",
    "fit_commun = tableau['fit_commun']\n",
    "ifit_1ns = np.where(fit_commun[:] < 0.1)[0]\n",
    "nfit=len(ifit_1ns)\n",
    "print(nfit)"
   ]
  },
  {
   "cell_type": "code",
   "execution_count": 22,
   "metadata": {},
   "outputs": [
    {
     "data": {
      "image/png": "[encoded data removed]",
      "text/plain": [
       "<Figure size 432x288 with 1 Axes>"
      ]
     },
     "metadata": {
      "needs_background": "light"
     },
     "output_type": "display_data"
    }
   ],
   "source": [
    "#plot pour comparer avec les donnees terrain\n",
    "%matplotlib inline\n",
    "\n",
    "#fig, ax = plt.subplots(2, figsize=(10, 10))\n",
    "\n",
    "for i in range(nfit):\n",
    "    plt.plot(temps, tableau.at[int(ifit_1ns[i]),\"twts\"], 'bo')        \n",
    "plt.plot(temps, twts_data, 'ro', label='twts_data')\n",
    "plt.legend(fontsize=20)\n",
    "\n",
    "for i in range(nfit):\n",
    "    plt.plot(temps_volume, tableau.at[int(ifit_1ns[i]),\"volumes\"], 'bx') \n",
    "plt.plot(temps_volume, volumes_data, 'rx', label='Volumes_data')  \n",
    "plt.legend(fontsize=10)\n",
    "\n",
    "plt.savefig('bilbP1_0_30-mVSdata-less0.065.pdf',bbox_inches='tight')"
   ]
  },
  {
   "cell_type": "code",
   "execution_count": 23,
   "metadata": {},
   "outputs": [
    {
     "data": {
      "image/png": "[encoded data removed]",
      "text/plain": [
       "<Figure size 1440x720 with 4 Axes>"
      ]
     },
     "metadata": {
      "needs_background": "light"
     },
     "output_type": "display_data"
    }
   ],
   "source": [
    "fig = plt.figure(1,figsize=(20,10))\n",
    "plt.xticks(fontsize=20)\n",
    "plt.yticks(fontsize=20)\n",
    "\n",
    "plt.subplot(2,2,1)\n",
    "plt.xlabel('ts',fontsize=15)\n",
    "plt.ylabel('Occurence',fontsize=15)\n",
    "resu = np.zeros(nfit)\n",
    "for i in range(nfit): \n",
    "    resu[i] = tableau.at[int(ifit_1ns[i]),\"ts\"] \n",
    "plt.hist(resu,bins=20)\n",
    "plt.plot(tableau.at[int(ifit_min_commun),\"ts\"],5, 'ys')\n",
    "\n",
    "plt.subplot(2,2,2)\n",
    "plt.xlabel('Ks',fontsize=15)\n",
    "plt.ylabel('Occurence',fontsize=15)\n",
    "resu = np.zeros(nfit)\n",
    "for i in range(nfit): \n",
    "    resu[i] = tableau.at[int(ifit_1ns[i]),\"Ks\"] \n",
    "plt.hist(resu,bins=20)\n",
    "plt.plot(tableau.at[int(ifit_min_commun),\"Ks\"],5, 'ys')\n",
    "\n",
    "plt.subplot(2,2,3)\n",
    "plt.xlabel('n',fontsize=15)\n",
    "plt.ylabel('Occurence',fontsize=15)\n",
    "resu = np.zeros(nfit)\n",
    "for i in range(nfit): \n",
    "    resu[i] = tableau.at[int(ifit_1ns[i]),\"n\"] \n",
    "plt.hist(resu,bins=20)\n",
    "plt.plot(tableau.at[int(ifit_min_commun),\"n\"],5, 'ys')\n",
    "\n",
    "plt.subplot(2,2,4)\n",
    "plt.xlabel('alpha',fontsize=15)\n",
    "plt.ylabel('Occurence',fontsize=15)\n",
    "resu = np.zeros(nfit)\n",
    "for i in range(nfit): \n",
    "    resu[i] = tableau.at[int(ifit_1ns[i]),\"alpha\"] \n",
    "plt.hist(resu,bins=20)\n",
    "plt.plot(tableau.at[int(ifit_min_commun),\"alpha\"],5, 'ys')\n",
    "\n",
    "plt.savefig('bilbP1_0_30-less0.065.pdf',bbox_inches='tight')\n",
    "#plt.show(1)\n",
    "#plt.close(1)"
   ]
  },
  {
   "cell_type": "markdown",
   "metadata": {},
   "source": [
    " # Plot des fit en fonction des param"
   ]
  },
  {
   "cell_type": "code",
   "execution_count": 15,
   "metadata": {},
   "outputs": [
    {
     "name": "stdout",
     "output_type": "stream",
     "text": [
      "5.653627802502538\n"
     ]
    },
    {
     "data": {
      "image/png": "[encoded data removed]",
      "text/plain": [
       "<Figure size 432x288 with 2 Axes>"
      ]
     },
     "metadata": {
      "needs_background": "light"
     },
     "output_type": "display_data"
    }
   ],
   "source": [
    "n = np.array(tableau[\"n\"][tableau[\"ts\"]==0.36])\n",
    "Ks = np.array(tableau[\"Ks\"][tableau[\"ts\"]==0.36])\n",
    "alpha = np.array(tableau[\"alpha\"][tableau[\"ts\"]==0.36])\n",
    "z = np.array(tableau[\"fit_commun\"][tableau[\"ts\"]==0.36], dtype=float)\n",
    "z_min=min(z)\n",
    "z_max=max(z)\n",
    "print(z_max)\n",
    "\n",
    "\n",
    "fig, ax = plt.subplots()\n",
    "scat = ax.scatter(n, Ks, c=z,marker='o',vmin=z_min,vmax=z_max/20)\n",
    "fig.colorbar(scat)\n",
    "ax.set_title('Fit commun pour ts=0.36',fontsize=15)\n",
    "ax.set_xlabel('n',fontsize=15)\n",
    "ax.set_ylabel('Ks (cm/min)',fontsize=15)\n",
    "\n",
    "plt.show()"
   ]
  },
  {
   "cell_type": "code",
   "execution_count": null,
   "metadata": {},
   "outputs": [],
   "source": []
  },
  {
   "cell_type": "code",
   "execution_count": null,
   "metadata": {},
   "outputs": [],
   "source": []
  },
  {
   "cell_type": "code",
   "execution_count": 9,
   "metadata": {},
   "outputs": [
    {
     "name": "stdout",
     "output_type": "stream",
     "text": [
      "0.019194723446914384\n",
      "3562\n",
      "tr=0.03,ts=0.4600000000000001,ti=0.09,Ks=0.11,n=10.0,alpha=0.03,fit_min=0.019194723446914384\n",
      "        \n",
      "0.03820790534719946\n",
      "3574\n",
      "tr=0.03,ts=0.4600000000000001,ti=0.09,Ks=0.21000000000000002,n=2.75,alpha=0.03,fit_min=0.03820790534719946\n",
      "        \n"
     ]
    }
   ],
   "source": [
    "#Calcul des fit min pour les log\n",
    "fit_logtwts = tableau['fit_logtwts']\n",
    "fit_min_logtwts=np.min(fit_logtwts)\n",
    "ifit_min_logtwts = int(np.where(fit_logtwts[:] == fit_min_logtwts)[0])\n",
    "print(fit_min_logtwts)\n",
    "print(ifit_min_logtwts)\n",
    "print(\"\"\"tr={tr},ts={ts},ti={ti},Ks={Ks},n={n},alpha={alpha},fit_min={min}\n",
    "        \"\"\".format(tr=tableau.at[ifit_min_logtwts,\"tr\"], \n",
    "                   ts=tableau.at[ifit_min_logtwts,\"ts\"], \n",
    "                   ti=tableau.at[ifit_min_logtwts,\"ti\"], \n",
    "                   Ks=tableau.at[ifit_min_logtwts,\"Ks\"], \n",
    "                   n=tableau.at[ifit_min_logtwts,\"n\"], \n",
    "                   alpha=tableau.at[ifit_min_logtwts,\"alpha\"],\n",
    "                   min=fit_min_logtwts)\n",
    "     )\n",
    "\n",
    "\n",
    "fit_logvolumes = tableau['fit_logvolumes']\n",
    "fit_min_logvols=np.min(fit_logvolumes)\n",
    "ifit_min_logvols = int(np.where(fit_logvolumes[:] == fit_min_logvols)[0])\n",
    "print(fit_min_logvols)\n",
    "print(ifit_min_logvols)\n",
    "print(\"\"\"tr={tr},ts={ts},ti={ti},Ks={Ks},n={n},alpha={alpha},fit_min={min}\n",
    "        \"\"\".format(tr=tableau.at[ifit_min_logvols,\"tr\"], \n",
    "                   ts=tableau.at[ifit_min_logvols,\"ts\"], \n",
    "                   ti=tableau.at[ifit_min_logvols,\"ti\"], \n",
    "                   Ks=tableau.at[ifit_min_logvols,\"Ks\"], \n",
    "                   n=tableau.at[ifit_min_logvols,\"n\"], \n",
    "                   alpha=tableau.at[ifit_min_logvols,\"alpha\"],\n",
    "                   min=fit_min_logvols)\n",
    "     )"
   ]
  },
  {
   "cell_type": "code",
   "execution_count": 16,
   "metadata": {},
   "outputs": [
    {
     "name": "stdout",
     "output_type": "stream",
     "text": [
      "4.262317724310288\n"
     ]
    },
    {
     "ename": "NameError",
     "evalue": "name 'matplotlib' is not defined",
     "output_type": "error",
     "traceback": [
      "\u001b[0;31m---------------------------------------------------------------------------\u001b[0m",
      "\u001b[0;31mNameError\u001b[0m                                 Traceback (most recent call last)",
      "\u001b[0;32m<ipython-input-16-b542042fc1bf>\u001b[0m in \u001b[0;36m<module>\u001b[0;34m\u001b[0m\n\u001b[1;32m      7\u001b[0m \u001b[0mprint\u001b[0m\u001b[0;34m(\u001b[0m\u001b[0mz_max\u001b[0m\u001b[0;34m)\u001b[0m\u001b[0;34m\u001b[0m\u001b[0;34m\u001b[0m\u001b[0m\n\u001b[1;32m      8\u001b[0m \u001b[0mfig\u001b[0m\u001b[0;34m,\u001b[0m \u001b[0max\u001b[0m \u001b[0;34m=\u001b[0m \u001b[0mplt\u001b[0m\u001b[0;34m.\u001b[0m\u001b[0msubplots\u001b[0m\u001b[0;34m(\u001b[0m\u001b[0;34m)\u001b[0m\u001b[0;34m\u001b[0m\u001b[0;34m\u001b[0m\u001b[0m\n\u001b[0;32m----> 9\u001b[0;31m \u001b[0mmap\u001b[0m\u001b[0;34m=\u001b[0m \u001b[0mmatplotlib\u001b[0m\u001b[0;34m.\u001b[0m\u001b[0mcm\u001b[0m\u001b[0;34m.\u001b[0m\u001b[0mget_cmap\u001b[0m\u001b[0;34m(\u001b[0m\u001b[0mname\u001b[0m\u001b[0;34m=\u001b[0m\u001b[0;34m'jet'\u001b[0m\u001b[0;34m)\u001b[0m\u001b[0;34m\u001b[0m\u001b[0;34m\u001b[0m\u001b[0m\n\u001b[0m\u001b[1;32m     10\u001b[0m \u001b[0mscat\u001b[0m \u001b[0;34m=\u001b[0m \u001b[0max\u001b[0m\u001b[0;34m.\u001b[0m\u001b[0mscatter\u001b[0m\u001b[0;34m(\u001b[0m\u001b[0mn\u001b[0m\u001b[0;34m,\u001b[0m \u001b[0malpha\u001b[0m\u001b[0;34m,\u001b[0m \u001b[0mc\u001b[0m\u001b[0;34m=\u001b[0m\u001b[0mz\u001b[0m\u001b[0;34m,\u001b[0m\u001b[0mmarker\u001b[0m\u001b[0;34m=\u001b[0m\u001b[0;34m'o'\u001b[0m\u001b[0;34m,\u001b[0m\u001b[0mvmin\u001b[0m\u001b[0;34m=\u001b[0m\u001b[0mz_min\u001b[0m\u001b[0;34m,\u001b[0m\u001b[0mvmax\u001b[0m\u001b[0;34m=\u001b[0m\u001b[0mz_max\u001b[0m\u001b[0;34m/\u001b[0m\u001b[0;36m2\u001b[0m\u001b[0;34m)\u001b[0m\u001b[0;34m\u001b[0m\u001b[0;34m\u001b[0m\u001b[0m\n\u001b[1;32m     11\u001b[0m \u001b[0mfig\u001b[0m\u001b[0;34m.\u001b[0m\u001b[0mcolorbar\u001b[0m\u001b[0;34m(\u001b[0m\u001b[0mscat\u001b[0m\u001b[0;34m)\u001b[0m\u001b[0;34m\u001b[0m\u001b[0;34m\u001b[0m\u001b[0m\n",
      "\u001b[0;31mNameError\u001b[0m: name 'matplotlib' is not defined"
     ]
    },
    {
     "data": {
      "image/png": "[encoded data removed]",
      "text/plain": [
       "<Figure size 432x288 with 1 Axes>"
      ]
     },
     "metadata": {
      "needs_background": "light"
     },
     "output_type": "display_data"
    }
   ],
   "source": [
    "n = np.array(tableau[\"n\"])\n",
    "Ks = np.array(tableau[\"Ks\"])\n",
    "alpha = np.array(tableau[\"alpha\"])\n",
    "z = np.array(tableau[\"fit_twts\"], dtype=float)\n",
    "z_min=min(z)\n",
    "z_max=max(z)\n",
    "print(z_max)\n",
    "fig, ax = plt.subplots()\n",
    "map= matplotlib.cm.get_cmap(name='jet')\n",
    "scat = ax.scatter(n, alpha, c=z,marker='o',vmin=z_min,vmax=z_max/2)\n",
    "fig.colorbar(scat)\n",
    "\n",
    "plt.show()"
   ]
  },
  {
   "cell_type": "code",
   "execution_count": null,
   "metadata": {},
   "outputs": [],
   "source": []
  },
  {
   "cell_type": "code",
   "execution_count": null,
   "metadata": {},
   "outputs": [],
   "source": [
    "import ipyvolume as ipv\n",
    "import matplotlib.cm\n",
    "map= matplotlib.cm.get_cmap(name='jet')\n",
    "x = np.array(tableau[\"n\"][tableau[\"ts\"]==0.36])\n",
    "y = np.array(tableau[\"Ks\"][tableau[\"ts\"]==0.36])\n",
    "z = np.array(tableau[\"alpha\"][tableau[\"ts\"]==0.36])\n",
    "f = (np.array(tableau[\"fit_commun\"][tableau[\"ts\"]==0.36], dtype=float))\n",
    "f_min=min(f)\n",
    "f_max=max(f)\n",
    "f_norme=((f-f_min)/(f_max-f_min))\n",
    "\n",
    "\n",
    "ipv.quickscatter(x, y, z, color=map(f),size=2, marker=\"sphere\")\n",
    "ipv.xlim(min(x),max(x))\n",
    "ipv.ylim(min(y),max(y))\n",
    "ipv.zlim(min(z),max(z))\n",
    "print(min(z),max(z))\n",
    "ipv.xlabel('n')\n",
    "ipv.ylabel('Ks (cm/min)')\n",
    "ipv.zlabel('alpha (1/cm)')\n",
    "ipv.show()"
   ]
  },
  {
   "cell_type": "code",
   "execution_count": null,
   "metadata": {},
   "outputs": [],
   "source": []
  },
  {
   "cell_type": "code",
   "execution_count": null,
   "metadata": {},
   "outputs": [],
   "source": []
  },
  {
   "cell_type": "code",
   "execution_count": null,
   "metadata": {},
   "outputs": [],
   "source": [
    "\n",
    "\n"
   ]
  },
  {
   "cell_type": "code",
   "execution_count": null,
   "metadata": {},
   "outputs": [],
   "source": [
    "from mpl_toolkits.mplot3d import Axes3D\n",
    "\n",
    "fig = plt.figure()\n",
    "ax = fig.add_subplot(111, projection='3d')\n",
    "\n",
    "\n",
    "ax.scatter(n, Ks, alpha, c='r', marker='o')\n",
    "\n",
    "ax.set_xlabel('n')\n",
    "ax.set_ylabel('Ks')\n",
    "ax.set_zlabel('Alpha')\n",
    "\n",
    "plt.show()"
   ]
  },
  {
   "cell_type": "markdown",
   "metadata": {},
   "source": [
    "# Plot pour les fit calculer sur les logs"
   ]
  },
  {
   "cell_type": "code",
   "execution_count": null,
   "metadata": {},
   "outputs": [],
   "source": [
    "#selection des modèles qui fit à 0.1 ns près\n",
    "fit_logtwts = tableau['fit_logtwts']\n",
    "#ifit_1ns_logtwts = np.where(fit_logtwts[:] < 0.05)[0]\n",
    "nfit=len(ifit_1ns_logtwts)\n",
    "print(nfit)"
   ]
  },
  {
   "cell_type": "code",
   "execution_count": null,
   "metadata": {},
   "outputs": [],
   "source": [
    "#plot pour comparer avec les donnees terrain\n",
    "%matplotlib inline\n",
    "\n",
    "#fig, ax = plt.subplots(2, figsize=(10, 10))\n",
    "\n",
    "for i in range(nfit):\n",
    "    plt.plot(temps, tableau.at[int(ifit_1ns_logtwts[i]),\"twts\"], 'ro')        \n",
    "plt.plot(temps, twts_data, 'bo', label='twts_data')\n",
    "plt.legend(fontsize=20)\n",
    "\n",
    "for i in range(nfit):\n",
    "    plt.plot(temps_volume, tableau.at[int(ifit_1ns_logtwts[i]),\"volumes\"], 'rx') \n",
    "plt.plot(temps_volume, volumes_data, 'bx', label='Volumes_data')  \n",
    "plt.legend(fontsize=10)\n",
    "\n",
    "print(\"\"\"tr={tr},ts={ts},ti={ti},Ks={Ks},n={n},alpha={alpha},fit_minV={minV}\n",
    "        \"\"\".format(tr=p[0], ts=p[1], ti=p[2], Ks=p[3], n=p[4], alpha=p[5],minV=fit_min_logtwts)\n",
    "     )"
   ]
  },
  {
   "cell_type": "markdown",
   "metadata": {},
   "source": [
    "# Tests "
   ]
  },
  {
   "cell_type": "code",
   "execution_count": null,
   "metadata": {},
   "outputs": [],
   "source": [
    "for p in itertools.product(tr,ts,ti,Ks,n,alpha):\n",
    "    # Definition des paramètres MVG\n",
    "    paramMVG=ParamMVG(tr=p[0], ts=p[1], ti=p[2], Ks=p[3], n=p[4], alpha=p[5])\n",
    "\n",
    "    myDirName = \"OUT\"+repr(geometry)+\"/\"+repr(paramMVG)\n",
    "    \n",
    "    ####### Param ########\n",
    "    param_fichier = io.open(myDirName+\"/Parameters\").read()\n",
    "    p2 = eval(param_fichier)\n",
    "    print(\"p\",p)\n",
    "    print(p2)"
   ]
  },
  {
   "cell_type": "code",
   "execution_count": null,
   "metadata": {},
   "outputs": [],
   "source": [
    "[  v    for v in fit_volumes if v <22]        \n",
    "[  (i,fit_volumes[i], l[i])    for i in range(len(fit_volumes))    if  fit_volumes[i] <22.]    "
   ]
  }
 ],
 "metadata": {
  "celltoolbar": "Aucun(e)",
  "kernelspec": {
   "display_name": "Python 3",
   "language": "python",
   "name": "python3"
  },
  "language_info": {
   "codemirror_mode": {
    "name": "ipython",
    "version": 3
   },
   "file_extension": ".py",
   "mimetype": "text/x-python",
   "name": "python",
   "nbconvert_exporter": "python",
   "pygments_lexer": "ipython3",
   "version": "3.6.7"
  }
 },
 "nbformat": 4,
 "nbformat_minor": 2
}
